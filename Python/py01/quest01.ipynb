{
  "nbformat": 4,
  "nbformat_minor": 0,
  "metadata": {
    "colab": {
      "provenance": [],
      "toc_visible": true,
      "include_colab_link": true
    },
    "kernelspec": {
      "name": "python3",
      "display_name": "Python 3"
    },
    "language_info": {
      "name": "python"
    }
  },
  "cells": [
    {
      "cell_type": "markdown",
      "metadata": {
        "id": "view-in-github",
        "colab_type": "text"
      },
      "source": [
        "<a href=\"https://colab.research.google.com/github/kokojay91/AIFFEL_quest_cr/blob/main/quest01.ipynb\" target=\"_parent\"><img src=\"https://colab.research.google.com/assets/colab-badge.svg\" alt=\"Open In Colab\"/></a>"
      ]
    },
    {
      "cell_type": "code",
      "execution_count": null,
      "metadata": {
        "id": "DPRlGu-9Enmd",
        "colab": {
          "base_uri": "https://localhost:8080/"
        },
        "outputId": "4a0cce0b-fc0c-4b57-fb3f-a3b12f933ffe"
      },
      "outputs": [
        {
          "output_type": "stream",
          "name": "stdout",
          "text": [
            "원하시는 단어를 입력하세요. 해당 단어가 회문인지 확인 하겠습니다\n"
          ]
        }
      ],
      "source": [
        "print(\"원하시는 단어를 입력하세요. 해당 단어가 회문인지 확인 하겠습니다\")\n",
        "\n",
        "text = input('원하시는 단어를 입력하세요: ')\n",
        "oritext = text\n",
        "retext = text[::-1]\n",
        "if oritext == retext:\n",
        "    print(\"회문이 맞습니다.\")\n",
        "else:\n",
        "    print(\"회문이 아닙니다.\")\n",
        "# 코더 :최창윤\n",
        "# 문제 해결 기록 깜빡하고 삭제함... 대부분 실수로 자바코드 작성한 부분\n",
        "# 회고 : 파이썬 코드 다시 복습 해야 할듯 특히 자꾸 머리와 손에서 자바 코드를 입력 하려고 함\n",
        "\n",
        "#네비게이터 : 이지선\n",
        "#문제 해결 기록은 삭제됨\n",
        "#기본적인 내용은 노드를 참고하여 진행, 문자열과 조건문 형식을 포함함"
      ]
    }
  ]
}
