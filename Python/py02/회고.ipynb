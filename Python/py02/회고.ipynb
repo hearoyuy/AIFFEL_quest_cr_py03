{
  "nbformat": 4,
  "nbformat_minor": 0,
  "metadata": {
    "colab": {
      "provenance": [],
      "authorship_tag": "ABX9TyOuwcmtvj+E2puyFRStS1y/",
      "include_colab_link": true
    },
    "kernelspec": {
      "name": "python3",
      "display_name": "Python 3"
    },
    "language_info": {
      "name": "python"
    }
  },
  "cells": [
    {
      "cell_type": "markdown",
      "metadata": {
        "id": "view-in-github",
        "colab_type": "text"
      },
      "source": [
        "<a href=\"https://colab.research.google.com/github/kokojay91/AIFFEL_quest_cr/blob/main/Python/py02/%ED%9A%8C%EA%B3%A0.ipynb\" target=\"_parent\"><img src=\"https://colab.research.google.com/assets/colab-badge.svg\" alt=\"Open In Colab\"/></a>"
      ]
    },
    {
      "cell_type": "markdown",
      "source": [
        "회고\n",
        "1. 민성 그루님의 튜토리얼 퀴즈에 사용된 코드를 기본으로 작성\n",
        "2. 퍼실님, 구글, 챗지피티로 검색하여 문제 해결\n",
        "3. 느낀점: 전반적인 내용을 민성 그루님이 진행하여 스스로의 부족함을 많이 느낌, 좀더 도움이 되었으면 좋았을텐데 분발해서 공부해야 할것 같다."
      ],
      "metadata": {
        "id": "NXtkBHsuJgns"
      }
    }
  ]
}